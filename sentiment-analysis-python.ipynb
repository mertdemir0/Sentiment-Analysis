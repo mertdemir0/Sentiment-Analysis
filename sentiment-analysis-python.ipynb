{
 "cells": [
  {
   "cell_type": "markdown",
   "source": [
    "Sentiment Analysis with Python"
   ],
   "metadata": {
    "collapsed": false
   }
  },
  {
   "cell_type": "code",
   "execution_count": 1,
   "metadata": {
    "collapsed": true
   },
   "outputs": [
    {
     "name": "stderr",
     "output_type": "stream",
     "text": [
      "[nltk_data] Downloading package vader_lexicon to\n",
      "[nltk_data]     C:\\Users\\001504\\AppData\\Roaming\\nltk_data...\n",
      "[nltk_data]   Package vader_lexicon is already up-to-date!\n"
     ]
    },
    {
     "data": {
      "text/plain": "True"
     },
     "execution_count": 1,
     "metadata": {},
     "output_type": "execute_result"
    }
   ],
   "source": [
    "import re\n",
    "import pandas as pd \n",
    "import matplotlib.pyplot as plt\n",
    "import nltk\n",
    "from nltk.sentiment.vader import SentimentIntensityAnalyzer\n",
    "nltk.download('vader_lexicon')"
   ]
  },
  {
   "cell_type": "code",
   "execution_count": 4,
   "outputs": [
    {
     "name": "stdout",
     "output_type": "stream",
     "text": [
      "    Period Manager    Team                                           Response  \\\n",
      "0  2019-Q1   Mgr 1  Team 1  We're a fun team that works well together and ...   \n",
      "1  2019-Q1   Mgr 1  Team 1  we have a sound and collaborative team focused...   \n",
      "2  2019-Q1   Mgr 1  Team 1  we work well as a team, we have fun together, ...   \n",
      "3  2019-Q1   Mgr 1  Team 1  I fell pretty good about the health of our tea...   \n",
      "4  2019-Q1   Mgr 1  Team 1  happy with team's overall health and good dyna...   \n",
      "5  2019-Q1   Mgr 1  Team 1                                              Solid   \n",
      "6  2019-Q1   Mgr 1  Team 1  The Team 2 team is a  collaborative group prod...   \n",
      "7  2019-Q1   Mgr 1  Team 1  We have great teamwork.  We have a lot of fun....   \n",
      "8  2019-Q1   Mgr 1  Team 1  We feel good about our teamwork, process, tech...   \n",
      "9  2019-Q1   Mgr 1  Team 2  A blast!  Always working towards delivering mo...   \n",
      "\n",
      "   Unnamed: 4  Unnamed: 5  Unnamed: 6  Unnamed: 7  Unnamed: 8  Unnamed: 9  \\\n",
      "0         NaN         NaN         NaN         NaN         NaN         NaN   \n",
      "1         NaN         NaN         NaN         NaN         NaN         NaN   \n",
      "2         NaN         NaN         NaN         NaN         NaN         NaN   \n",
      "3         NaN         NaN         NaN         NaN         NaN         NaN   \n",
      "4         NaN         NaN         NaN         NaN         NaN         NaN   \n",
      "5         NaN         NaN         NaN         NaN         NaN         NaN   \n",
      "6         NaN         NaN         NaN         NaN         NaN         NaN   \n",
      "7         NaN         NaN         NaN         NaN         NaN         NaN   \n",
      "8         NaN         NaN         NaN         NaN         NaN         NaN   \n",
      "9         NaN         NaN         NaN         NaN         NaN         NaN   \n",
      "\n",
      "   ...  Unnamed: 95  Unnamed: 96  Unnamed: 97  Unnamed: 98  Unnamed: 99  \\\n",
      "0  ...          NaN          NaN          NaN          NaN          NaN   \n",
      "1  ...          NaN          NaN          NaN          NaN          NaN   \n",
      "2  ...          NaN          NaN          NaN          NaN          NaN   \n",
      "3  ...          NaN          NaN          NaN          NaN          NaN   \n",
      "4  ...          NaN          NaN          NaN          NaN          NaN   \n",
      "5  ...          NaN          NaN          NaN          NaN          NaN   \n",
      "6  ...          NaN          NaN          NaN          NaN          NaN   \n",
      "7  ...          NaN          NaN          NaN          NaN          NaN   \n",
      "8  ...          NaN          NaN          NaN          NaN          NaN   \n",
      "9  ...          NaN          NaN          NaN          NaN          NaN   \n",
      "\n",
      "   Unnamed: 100  Unnamed: 101  Unnamed: 102  Unnamed: 103  row_id  \n",
      "0           NaN           NaN           NaN           NaN       1  \n",
      "1           NaN           NaN           NaN           NaN       2  \n",
      "2           NaN           NaN           NaN           NaN       3  \n",
      "3           NaN           NaN           NaN           NaN       4  \n",
      "4           NaN           NaN           NaN           NaN       5  \n",
      "5           NaN           NaN           NaN           NaN       6  \n",
      "6           NaN           NaN           NaN           NaN       7  \n",
      "7           NaN           NaN           NaN           NaN       8  \n",
      "8           NaN           NaN           NaN           NaN       9  \n",
      "9           NaN           NaN           NaN           NaN      10  \n",
      "\n",
      "[10 rows x 105 columns]\n"
     ]
    }
   ],
   "source": [
    "df = pd.read_excel('TeamHealthRawDataForDemo.xlsx')\n",
    "\n",
    "# adding an row_id field to the dataframe, which will be useful for joining later\n",
    "df[\"row_id\"] = df.index +1\n",
    "#printing first 10 rows\n",
    "print(df.head(10))"
   ],
   "metadata": {
    "collapsed": false,
    "pycharm": {
     "name": "#%%\n"
    }
   }
  },
  {
   "cell_type": "code",
   "execution_count": 5,
   "outputs": [
    {
     "name": "stdout",
     "output_type": "stream",
     "text": [
      "   row_id                                           Response\n",
      "0       1  we re a fun team that works well together and ...\n",
      "1       2  we have a sound and collaborative team focused...\n",
      "2       3  we work well as a team  we have fun together  ...\n",
      "3       4  i fell pretty good about the health of our tea...\n",
      "4       5  happy with team s overall health and good dyna...\n",
      "5       6                                              solid\n",
      "6       7  the team   team is a  collaborative group prod...\n",
      "7       8  we have great teamwork   we have a lot of fun ...\n",
      "8       9  we feel good about our teamwork  process  tech...\n",
      "9      10  a blast   always working towards delivering mo...\n"
     ]
    },
    {
     "name": "stderr",
     "output_type": "stream",
     "text": [
      "<ipython-input-5-d71380b2498a>:6: FutureWarning: The default value of regex will change from True to False in a future version.\n",
      "  df_subset['Response'] = df_subset['Response'].str.replace(\"[^a-zA-Z#]\", \" \")\n"
     ]
    }
   ],
   "source": [
    "#create a new dataframe with id and comment\n",
    "df_subset = df[['row_id', 'Response']].copy()\n",
    "\n",
    "#cleaning\n",
    "#removing non alphabet char\n",
    "df_subset['Response'] = df_subset['Response'].str.replace(\"[^a-zA-Z#]\", \" \")\n",
    "\n",
    "#convert to lowercase\n",
    "df_subset['Response']= df_subset['Response'].str.casefold()\n",
    "print(df_subset.head(10))"
   ],
   "metadata": {
    "collapsed": false,
    "pycharm": {
     "name": "#%%\n"
    }
   }
  },
  {
   "cell_type": "code",
   "execution_count": 6,
   "outputs": [],
   "source": [
    "#set up empty dataframe for staging output\n",
    "\n",
    "df1=pd.DataFrame()\n",
    "df1['row_id']= ['99999999999']\n",
    "df1['sentiment_type']='NA999NA'\n",
    "df1['sentiment_score']=0"
   ],
   "metadata": {
    "collapsed": false,
    "pycharm": {
     "name": "#%%\n"
    }
   }
  },
  {
   "cell_type": "code",
   "execution_count": 8,
   "outputs": [
    {
     "name": "stdout",
     "output_type": "stream",
     "text": [
      "Processing sentiment analysis...\n",
      "   row_id sentiment_type  sentiment_score\n",
      "0       1       compound           0.6597\n",
      "0       2       compound           0.9287\n",
      "0       3       compound           0.8122\n",
      "0       4       compound           0.8225\n",
      "0       5       compound           0.8271\n",
      "0       6       compound           0.1531\n",
      "0       7       compound           0.9382\n",
      "0       8       compound           0.9381\n",
      "0       9       compound           0.9468\n",
      "0      10       compound           0.5059\n"
     ]
    }
   ],
   "source": [
    "print('Processing sentiment analysis...')\n",
    "sid= SentimentIntensityAnalyzer()\n",
    "t_df = df1\n",
    "for index, row in df_subset.iterrows():\n",
    "    scores = sid.polarity_scores(row[1])\n",
    "    for key, value in scores.items():\n",
    "        temp = [key,value,row[0]]\n",
    "        df1['row_id']=row[0]\n",
    "        df1['sentiment_type']=key\n",
    "        df1['sentiment_score']=value\n",
    "        t_df=t_df.append(df1)\n",
    "        \n",
    "#remove dummy row\n",
    "t_df_cleaned= t_df[t_df.row_id != '99999999999']\n",
    "\n",
    "#remove duplicates\n",
    "t_df_cleaned= t_df_cleaned.drop_duplicates()\n",
    "\n",
    "t_df_cleaned= t_df[t_df.sentiment_type =='compound']\n",
    "print(t_df_cleaned.head(10))"
   ],
   "metadata": {
    "collapsed": false,
    "pycharm": {
     "name": "#%%\n"
    }
   }
  },
  {
   "cell_type": "code",
   "execution_count": 9,
   "outputs": [
    {
     "name": "stdout",
     "output_type": "stream",
     "text": [
      "    Period Manager    Team                                           Response  \\\n",
      "0  2019-Q1   Mgr 1  Team 1  We're a fun team that works well together and ...   \n",
      "1  2019-Q1   Mgr 1  Team 1  we have a sound and collaborative team focused...   \n",
      "2  2019-Q1   Mgr 1  Team 1  we work well as a team, we have fun together, ...   \n",
      "3  2019-Q1   Mgr 1  Team 1  I fell pretty good about the health of our tea...   \n",
      "4  2019-Q1   Mgr 1  Team 1  happy with team's overall health and good dyna...   \n",
      "5  2019-Q1   Mgr 1  Team 1                                              Solid   \n",
      "6  2019-Q1   Mgr 1  Team 1  The Team 2 team is a  collaborative group prod...   \n",
      "7  2019-Q1   Mgr 1  Team 1  We have great teamwork.  We have a lot of fun....   \n",
      "8  2019-Q1   Mgr 1  Team 1  We feel good about our teamwork, process, tech...   \n",
      "9  2019-Q1   Mgr 1  Team 2  A blast!  Always working towards delivering mo...   \n",
      "\n",
      "   Unnamed: 4  Unnamed: 5  Unnamed: 6  Unnamed: 7  Unnamed: 8  Unnamed: 9  \\\n",
      "0         NaN         NaN         NaN         NaN         NaN         NaN   \n",
      "1         NaN         NaN         NaN         NaN         NaN         NaN   \n",
      "2         NaN         NaN         NaN         NaN         NaN         NaN   \n",
      "3         NaN         NaN         NaN         NaN         NaN         NaN   \n",
      "4         NaN         NaN         NaN         NaN         NaN         NaN   \n",
      "5         NaN         NaN         NaN         NaN         NaN         NaN   \n",
      "6         NaN         NaN         NaN         NaN         NaN         NaN   \n",
      "7         NaN         NaN         NaN         NaN         NaN         NaN   \n",
      "8         NaN         NaN         NaN         NaN         NaN         NaN   \n",
      "9         NaN         NaN         NaN         NaN         NaN         NaN   \n",
      "\n",
      "   ...  Unnamed: 97  Unnamed: 98  Unnamed: 99  Unnamed: 100  Unnamed: 101  \\\n",
      "0  ...          NaN          NaN          NaN           NaN           NaN   \n",
      "1  ...          NaN          NaN          NaN           NaN           NaN   \n",
      "2  ...          NaN          NaN          NaN           NaN           NaN   \n",
      "3  ...          NaN          NaN          NaN           NaN           NaN   \n",
      "4  ...          NaN          NaN          NaN           NaN           NaN   \n",
      "5  ...          NaN          NaN          NaN           NaN           NaN   \n",
      "6  ...          NaN          NaN          NaN           NaN           NaN   \n",
      "7  ...          NaN          NaN          NaN           NaN           NaN   \n",
      "8  ...          NaN          NaN          NaN           NaN           NaN   \n",
      "9  ...          NaN          NaN          NaN           NaN           NaN   \n",
      "\n",
      "   Unnamed: 102  Unnamed: 103  row_id  sentiment_type  sentiment_score  \n",
      "0           NaN           NaN       1        compound           0.6597  \n",
      "1           NaN           NaN       2        compound           0.9287  \n",
      "2           NaN           NaN       3        compound           0.8122  \n",
      "3           NaN           NaN       4        compound           0.8225  \n",
      "4           NaN           NaN       5        compound           0.8271  \n",
      "5           NaN           NaN       6        compound           0.1531  \n",
      "6           NaN           NaN       7        compound           0.9382  \n",
      "7           NaN           NaN       8        compound           0.9381  \n",
      "8           NaN           NaN       9        compound           0.9468  \n",
      "9           NaN           NaN      10        compound           0.5059  \n",
      "\n",
      "[10 rows x 107 columns]\n"
     ]
    }
   ],
   "source": [
    "#merge dataframes\n",
    "df_output= pd.merge(df, t_df_cleaned, on='row_id', how='inner')\n",
    "print(df_output.head(10))"
   ],
   "metadata": {
    "collapsed": false,
    "pycharm": {
     "name": "#%%\n"
    }
   }
  },
  {
   "cell_type": "code",
   "execution_count": 10,
   "outputs": [
    {
     "data": {
      "text/plain": "       sentiment_score\ncount       300.000000\nmean          0.594633\nstd           0.376298\nmin          -0.895700\n25%           0.440400\n50%           0.715900\n75%           0.865800\nmax           0.988300",
      "text/html": "<div>\n<style scoped>\n    .dataframe tbody tr th:only-of-type {\n        vertical-align: middle;\n    }\n\n    .dataframe tbody tr th {\n        vertical-align: top;\n    }\n\n    .dataframe thead th {\n        text-align: right;\n    }\n</style>\n<table border=\"1\" class=\"dataframe\">\n  <thead>\n    <tr style=\"text-align: right;\">\n      <th></th>\n      <th>sentiment_score</th>\n    </tr>\n  </thead>\n  <tbody>\n    <tr>\n      <th>count</th>\n      <td>300.000000</td>\n    </tr>\n    <tr>\n      <th>mean</th>\n      <td>0.594633</td>\n    </tr>\n    <tr>\n      <th>std</th>\n      <td>0.376298</td>\n    </tr>\n    <tr>\n      <th>min</th>\n      <td>-0.895700</td>\n    </tr>\n    <tr>\n      <th>25%</th>\n      <td>0.440400</td>\n    </tr>\n    <tr>\n      <th>50%</th>\n      <td>0.715900</td>\n    </tr>\n    <tr>\n      <th>75%</th>\n      <td>0.865800</td>\n    </tr>\n    <tr>\n      <th>max</th>\n      <td>0.988300</td>\n    </tr>\n  </tbody>\n</table>\n</div>"
     },
     "execution_count": 10,
     "metadata": {},
     "output_type": "execute_result"
    }
   ],
   "source": [
    "#vis\n",
    "df_output[[\"sentiment_score\"]].describe()"
   ],
   "metadata": {
    "collapsed": false,
    "pycharm": {
     "name": "#%%\n"
    }
   }
  },
  {
   "cell_type": "code",
   "execution_count": 11,
   "outputs": [
    {
     "data": {
      "text/plain": "<AxesSubplot:title={'center':'Sentiment Score'}, xlabel='Period', ylabel='Mean Sentiment Score'>"
     },
     "execution_count": 11,
     "metadata": {},
     "output_type": "execute_result"
    },
    {
     "data": {
      "text/plain": "<Figure size 432x360 with 1 Axes>",
      "image/png": "[encoded data removed]"
     },
     "metadata": {
      "needs_background": "light"
     },
     "output_type": "display_data"
    }
   ],
   "source": [
    "#generate mean of sentiment_score by period\n",
    "dfg= df_output.groupby([\"Period\"])[\"sentiment_score\"].mean()\n",
    "#create bar plot\n",
    "dfg.plot(kind='bar', title='Sentiment Score', ylabel='Mean Sentiment Score', xlabel='Period',figsize=(6,5))"
   ],
   "metadata": {
    "collapsed": false,
    "pycharm": {
     "name": "#%%\n"
    }
   }
  },
  {
   "cell_type": "code",
   "execution_count": 12,
   "outputs": [
    {
     "data": {
      "text/plain": "<AxesSubplot:title={'center':'sentiment_score'}, xlabel='Team', ylabel='Mean Sentiment Score'>"
     },
     "execution_count": 12,
     "metadata": {},
     "output_type": "execute_result"
    },
    {
     "data": {
      "text/plain": "<Figure size 432x360 with 1 Axes>",
      "image/png": "[encoded data removed]"
     },
     "metadata": {
      "needs_background": "light"
     },
     "output_type": "display_data"
    }
   ],
   "source": [
    "dfg = df_output.groupby(['Team'])['sentiment_score'].mean()\n",
    "dfg.plot(kind='bar', title='sentiment_score', ylabel='Mean Sentiment Score',\n",
    "         xlabel='Team', figsize=(6, 5))"
   ],
   "metadata": {
    "collapsed": false,
    "pycharm": {
     "name": "#%%\n"
    }
   }
  },
  {
   "cell_type": "code",
   "execution_count": 13,
   "outputs": [
    {
     "data": {
      "text/plain": "(array([ 0,  1,  2,  3,  4,  5,  6,  7,  8,  9, 10]),\n [Text(0, 0, 'Team 1'),\n  Text(1, 0, 'Team 2'),\n  Text(2, 0, 'Team 3'),\n  Text(3, 0, 'Team 4'),\n  Text(4, 0, 'Team 5'),\n  Text(5, 0, 'Team 6'),\n  Text(6, 0, 'Team 7 '),\n  Text(7, 0, 'Team 8'),\n  Text(8, 0, 'Team 9'),\n  Text(9, 0, 'Team 8 '),\n  Text(10, 0, 'Team 9 ')])"
     },
     "execution_count": 13,
     "metadata": {},
     "output_type": "execute_result"
    },
    {
     "data": {
      "text/plain": "<Figure size 432x288 with 1 Axes>",
      "image/png": "[encoded data removed]"
     },
     "metadata": {
      "needs_background": "light"
     },
     "output_type": "display_data"
    }
   ],
   "source": [
    "import seaborn as sns\n",
    "#create seaborn boxplot by group\n",
    "sns.boxplot(x='Team', y='sentiment_score', notch=True,data=df_output,showfliers=False).set(title='Sentiment Score by Team')\n",
    "\n",
    "#modify axis label\n",
    "\n",
    "plt.xlabel('Team')\n",
    "plt.ylabel('Sentiment Score')\n",
    "plt.xticks(rotation=90)"
   ],
   "metadata": {
    "collapsed": false,
    "pycharm": {
     "name": "#%%\n"
    }
   }
  },
  {
   "cell_type": "code",
   "execution_count": null,
   "outputs": [],
   "source": [],
   "metadata": {
    "collapsed": false,
    "pycharm": {
     "name": "#%%\n"
    }
   }
  }
 ],
 "metadata": {
  "kernelspec": {
   "name": "pycharm-b3b0a30c",
   "language": "python",
   "display_name": "PyCharm (pythonProject)"
  },
  "language_info": {
   "codemirror_mode": {
    "name": "ipython",
    "version": 2
   },
   "file_extension": ".py",
   "mimetype": "text/x-python",
   "name": "python",
   "nbconvert_exporter": "python",
   "pygments_lexer": "ipython2",
   "version": "2.7.6"
  }
 },
 "nbformat": 4,
 "nbformat_minor": 0
}